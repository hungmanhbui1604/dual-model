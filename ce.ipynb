{
 "cells": [
  {
   "cell_type": "code",
   "execution_count": null,
   "id": "64bb4279",
   "metadata": {},
   "outputs": [],
   "source": [
    "import torch\n",
    "import torch.nn as nn\n",
    "import torch.optim as optim\n",
    "import torchvision.transforms as T\n",
    "from torchvision.transforms import InterpolationMode\n",
    "from utils import IntraSensorMulticlassDataset, get_train_validation_split\n",
    "from torch.utils.data import DataLoader\n",
    "from models import DualModel\n",
    "import matplotlib.pyplot as plt\n",
    "from sklearn.metrics import accuracy_score\n",
    "import numpy as np"
   ]
  },
  {
   "cell_type": "code",
   "execution_count": null,
   "id": "ce269c86",
   "metadata": {},
   "outputs": [],
   "source": [
    "validation_split = 0.1\n",
    "batch_size = 32\n",
    "num_workers = 4\n",
    "pin_memory = True\n",
    "lr = 0.001\n",
    "\n",
    "num_epochs = 1  #50\n",
    "\n",
    "train_dir = './LivDet/2013/Training/CrossMatchTrain'\n",
    "test_dir = './LivDet/2013/Testing/CrossMatchTest'\n",
    "model_path = './ckpts/model.pth'\n",
    "\n",
    "device = torch.device('cuda' if torch.cuda.is_available() else 'cpu')"
   ]
  },
  {
   "cell_type": "code",
   "execution_count": null,
   "id": "9157d8a0",
   "metadata": {},
   "outputs": [],
   "source": [
    "train_transform = T.Compose([\n",
    "    T.Resize((224, 224)),\n",
    "    T.ToTensor(),\n",
    "    T.RandomAffine(\n",
    "        degrees=(-20, 20),          # Rotation\n",
    "        translate=(0.2, 0.2),       # Horizontal/vertical shift\n",
    "        shear=(-20, 20),            # Shear\n",
    "        scale=(0.8, 1.2),           # Zoom\n",
    "        interpolation=InterpolationMode.NEAREST,\n",
    "        fill=0\n",
    "    ),\n",
    "    T.RandomHorizontalFlip(p=0.5),  # Horizontal flip\n",
    "    T.RandomVerticalFlip(p=0.5)     # Vertical flip\n",
    "])\n",
    "\n",
    "test_transform = T.Compose([\n",
    "    T.Resize((224, 224)),\n",
    "    T.ToTensor()\n",
    "])"
   ]
  },
  {
   "cell_type": "code",
   "execution_count": null,
   "id": "94616793",
   "metadata": {},
   "outputs": [],
   "source": [
    "train_dataset = IntraSensorMulticlassDataset(data_dir=train_dir, transform=train_transform)\n",
    "train_set, val_set = get_train_validation_split(dataset=train_dataset, validation_split=validation_split)\n",
    "test_set = IntraSensorMulticlassDataset(data_dir=test_dir, transform=test_transform)\n",
    "\n",
    "train_loader = DataLoader(dataset=train_set, batch_size=batch_size, shuffle=True, num_workers=num_workers, pin_memory=pin_memory)\n",
    "val_loader = DataLoader(dataset=val_set, batch_size=batch_size, shuffle=False, num_workers=num_workers, pin_memory=pin_memory)\n",
    "test_loader = DataLoader(dataset=test_set, batch_size=batch_size, shuffle=False, num_workers=num_workers, pin_memory=pin_memory)"
   ]
  },
  {
   "cell_type": "code",
   "execution_count": null,
   "id": "e8ecb7f2",
   "metadata": {},
   "outputs": [],
   "source": [
    "model = DualModel(num_classes=train_dataset.num_classes).to(device)\n",
    "model = nn.DataParallel(model)"
   ]
  },
  {
   "cell_type": "code",
   "execution_count": null,
   "id": "091b0172",
   "metadata": {},
   "outputs": [],
   "source": [
    "criterion = nn.CrossEntropyLoss()\n",
    "optimizer = optim.Adam(model.parameters(), lr=lr)"
   ]
  },
  {
   "cell_type": "code",
   "execution_count": null,
   "id": "1648dec7",
   "metadata": {},
   "outputs": [],
   "source": [
    "train_losses = []\n",
    "val_losses = []\n",
    "best_val_loss = 10.0"
   ]
  },
  {
   "cell_type": "code",
   "execution_count": null,
   "id": "86b6ab3f",
   "metadata": {},
   "outputs": [],
   "source": [
    "print('Training begin')\n",
    "\n",
    "for epoch in range(num_epochs):\n",
    "    # Training phase\n",
    "    model.train()\n",
    "    train_running_loss = 0.0\n",
    "    \n",
    "    for batch_idx, (data, targets) in enumerate(train_loader):\n",
    "        data, targets = data.to(device), targets.to(device, dtype=torch.float)\n",
    "        \n",
    "        optimizer.zero_grad()\n",
    "        \n",
    "        outputs = model(data)\n",
    "        loss = criterion(outputs, targets.long())\n",
    "        \n",
    "        loss.backward()\n",
    "        optimizer.step()\n",
    "        \n",
    "        train_running_loss += loss.item()\n",
    "\n",
    "        if batch_idx == 0 or batch_idx == len(train_loader) - 1 or batch_idx == round(len(train_loader) / 2):\n",
    "            print(f'Epoch [{epoch+1}/{num_epochs}] Batch Index [{batch_idx+1}/{len(train_loader)}]   Loss: {loss:.4f}')\n",
    "\n",
    "    avg_train_loss = train_running_loss / len(train_loader)\n",
    "    train_losses.append(avg_train_loss)\n",
    "    \n",
    "    # Validation phase\n",
    "    model.eval()\n",
    "    val_running_loss = 0.0\n",
    "    \n",
    "    with torch.no_grad():\n",
    "        for data, targets in val_loader:\n",
    "            data, targets = data.to(device), targets.to(device, dtype=torch.float)\n",
    "            \n",
    "            outputs = model(data)\n",
    "            loss = criterion(outputs, targets.long())\n",
    "            val_running_loss += loss.item()\n",
    "    \n",
    "    avg_val_loss = val_running_loss / len(val_loader)\n",
    "    val_losses.append(avg_val_loss)\n",
    "    \n",
    "    print(f'Epoch [{epoch+1}/{num_epochs}]   Train Loss: {avg_train_loss:.4f}   Val Loss: {avg_val_loss:.4f}')\n",
    "\n",
    "    if avg_val_loss < best_val_loss:\n",
    "        best_val_loss = avg_val_loss\n",
    "        torch.save(model.state_dict(), model_path)\n",
    "        print(f'Best val loss: {best_val_loss:.4f}. Model saved!')\n",
    "\n",
    "print('Traing done')"
   ]
  },
  {
   "cell_type": "code",
   "execution_count": null,
   "id": "new_cell_id",
   "metadata": {},
   "outputs": [],
   "source": [
    "# Plot losses\n",
    "plt.plot(train_losses, label='Train Loss')\n",
    "plt.plot(val_losses, label='Validation Loss')\n",
    "plt.title('Loss')\n",
    "plt.xlabel('Epoch')\n",
    "plt.ylabel('Loss')\n",
    "plt.legend()\n",
    "plt.show()"
   ]
  },
  {
   "cell_type": "code",
   "execution_count": null,
   "id": "1055c3c5",
   "metadata": {},
   "outputs": [],
   "source": [
    "model.load_state_dict(torch.load(model_path))"
   ]
  },
  {
   "cell_type": "code",
   "execution_count": null,
   "id": "c61eb81a",
   "metadata": {},
   "outputs": [],
   "source": [
    "# Testing phase\n",
    "model.eval()\n",
    "\n",
    "all_targets = []\n",
    "all_predictions = []\n",
    "\n",
    "with torch.no_grad():\n",
    "    for data, targets in test_loader:\n",
    "        data, targets = data.to(device), targets.to(device, dtype=torch.float)\n",
    "        \n",
    "        outputs = model(data)\n",
    "        predictions = torch.argmax(outputs, dim=1)\n",
    "        \n",
    "        all_targets.extend(targets.cpu().numpy())\n",
    "        all_predictions.extend(predictions.cpu().numpy())\n",
    "\n",
    "targets = np.array(all_targets > 0).astype(int)\n",
    "predictions = np.array(all_predictions > 0).astype(int)"
   ]
  },
  {
   "cell_type": "code",
   "execution_count": null,
   "id": "4562730d",
   "metadata": {},
   "outputs": [],
   "source": [
    "live_mask = (targets == 0)\n",
    "spoof_mask = (targets == 1)\n",
    "\n",
    "live_count = np.sum(live_mask)\n",
    "spoof_count = np.sum(spoof_mask)\n",
    "\n",
    "spoof_predictions = predictions[spoof_mask]\n",
    "apcer = np.sum(1 - spoof_predictions) / spoof_count if spoof_count > 0 else 0\n",
    "\n",
    "live_predictions = predictions[live_mask]\n",
    "bpcer = np.sum(live_predictions) / live_count if live_count > 0 else 0\n",
    "\n",
    "acer = (apcer + bpcer) / 2\n",
    "\n",
    "acc = 1 - acer\n",
    "\n",
    "accuracy = accuracy_score(targets, predictions) * 100\n",
    "\n",
    "print(f\"APCER: {apcer*100:.2f}%\")\n",
    "print(f\"BPCER: {bpcer*100:.2f}%\")\n",
    "print(f\"ACER:  {acer*100:.2f}%\")\n",
    "print(f\"ACC*:  {acc*100:.2f}%\")\n",
    "print(f\"ACC:   {accuracy:.2f}%\")"
   ]
  },
  {
   "cell_type": "code",
   "execution_count": null,
   "id": "38b0479e",
   "metadata": {},
   "outputs": [],
   "source": []
  }
 ],
 "metadata": {
  "kernelspec": {
   "display_name": "torchenv",
   "language": "python",
   "name": "python3"
  },
  "language_info": {
   "codemirror_mode": {
    "name": "ipython",
    "version": 3
   },
   "file_extension": ".py",
   "mimetype": "text/x-python",
   "name": "python",
   "nbconvert_exporter": "python",
   "pygments_lexer": "ipython3",
   "version": "3.12.12"
  }
 },
 "nbformat": 4,
 "nbformat_minor": 5
}
