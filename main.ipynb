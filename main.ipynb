{
 "cells": [
  {
   "cell_type": "code",
   "execution_count": 1,
   "id": "64bb4279",
   "metadata": {},
   "outputs": [],
   "source": [
    "import torch\n",
    "import torch.nn as nn\n",
    "import torch.optim as optim\n",
    "import torchvision.transforms as T\n",
    "from torchvision.transforms import InterpolationMode\n",
    "from utils import IntraSensorDataset, get_train_validation_split\n",
    "from torch.utils.data import DataLoader\n",
    "from models import DualModel\n",
    "import matplotlib.pyplot as plt\n",
    "from sklearn.metrics import accuracy_score, precision_score, recall_score, f1_score, confusion_matrix, classification_report, roc_curve\n",
    "import numpy as np"
   ]
  },
  {
   "cell_type": "code",
   "execution_count": null,
   "id": "ce269c86",
   "metadata": {},
   "outputs": [],
   "source": [
    "validation_split = 0.1\n",
    "batch_size = 32\n",
    "num_workers = 0\n",
    "pin_memory = False\n",
    "lr = 0.001\n",
    "\n",
    "num_epochs = 50\n",
    "\n",
    "train_dir = './LivDet/2013/Training/BiometrikaTrain'\n",
    "test_dir = './LivDet/2013/Testing/BiometrikaTest'\n",
    "\n",
    "device = torch.device('cuda' if torch.cuda.is_available() else 'cpu')"
   ]
  },
  {
   "cell_type": "code",
   "execution_count": 5,
   "id": "9157d8a0",
   "metadata": {},
   "outputs": [],
   "source": [
    "train_transform = T.Compose([\n",
    "    T.Resize((224, 224)),\n",
    "    T.ToTensor(),\n",
    "    T.RandomAffine(\n",
    "        degrees=(-20, 20),          # Rotation\n",
    "        translate=(0.2, 0.2),       # Horizontal/vertical shift\n",
    "        shear=(-20, 20),            # Shear\n",
    "        scale=(0.8, 1.2),           # Zoom\n",
    "        interpolation=InterpolationMode.NEAREST,\n",
    "        fill=0\n",
    "    ),\n",
    "    T.RandomHorizontalFlip(p=0.5),  # Horizontal flip\n",
    "    T.RandomVerticalFlip(p=0.5)     # Vertical flip\n",
    "])\n",
    "\n",
    "test_transform = T.Compose([\n",
    "    T.Resize((224, 224)),\n",
    "    T.ToTensor()\n",
    "])"
   ]
  },
  {
   "cell_type": "code",
   "execution_count": 6,
   "id": "94616793",
   "metadata": {},
   "outputs": [],
   "source": [
    "train_dataset = IntraSensorDataset(data_dir=train_dir, transform=train_transform)\n",
    "train_set, val_set = get_train_validation_split(dataset=train_dataset, validation_split=validation_split)\n",
    "test_set = IntraSensorDataset(data_dir=test_dir, transform=test_transform)\n",
    "\n",
    "train_loader = DataLoader(dataset=train_set, batch_size=batch_size, shuffle=True, num_workers=num_workers, pin_memory=pin_memory)\n",
    "val_loader = DataLoader(dataset=val_set, batch_size=batch_size, shuffle=False, num_workers=num_workers, pin_memory=pin_memory)\n",
    "test_loader = DataLoader(dataset=test_set, batch_size=batch_size, shuffle=False, num_workers=num_workers, pin_memory=pin_memory)"
   ]
  },
  {
   "cell_type": "code",
   "execution_count": 7,
   "id": "e8ecb7f2",
   "metadata": {},
   "outputs": [],
   "source": [
    "model = DualModel(num_classes=1).to(device)\n",
    "model = nn.DataParallel(model)"
   ]
  },
  {
   "cell_type": "code",
   "execution_count": 8,
   "id": "091b0172",
   "metadata": {},
   "outputs": [],
   "source": [
    "criterion = nn.BCEWithLogitsLoss()\n",
    "optimizer = optim.Adam(model.parameters(), lr=lr)"
   ]
  },
  {
   "cell_type": "code",
   "execution_count": null,
   "id": "86b6ab3f",
   "metadata": {},
   "outputs": [],
   "source": [
    "train_losses = []\n",
    "val_losses = []\n",
    "\n",
    "for epoch in range(num_epochs):\n",
    "    # Training phase\n",
    "    model.train()\n",
    "    running_loss = 0.0\n",
    "    \n",
    "    for batch_idx, (data, targets) in enumerate(train_loader):\n",
    "        data, targets = data.to(device), targets.to(device, dtype=torch.float)\n",
    "        \n",
    "        optimizer.zero_grad()\n",
    "        \n",
    "        outputs = model(data)\n",
    "        loss = criterion(outputs.squeeze(), targets)\n",
    "        \n",
    "        loss.backward()\n",
    "        optimizer.step()\n",
    "        \n",
    "        running_loss += loss.item()\n",
    "\n",
    "        if batch_idx % 50 == 0:\n",
    "            print(f'Epoch [{epoch+1}/{num_epochs}]   Batch Index [{batch_idx+1}/{len(train_loader)}]   Train Loss: {loss:.4f}')\n",
    "\n",
    "    avg_train_loss = running_loss / len(train_loader)\n",
    "    train_losses.append(avg_train_loss)\n",
    "    \n",
    "    # Validation phase\n",
    "    model.eval()\n",
    "    val_running_loss = 0.0\n",
    "    \n",
    "    with torch.no_grad():\n",
    "        for data, targets in val_loader:\n",
    "            data, targets = data.to(device), targets.to(device, dtype=torch.float)\n",
    "            \n",
    "            outputs = model(data)\n",
    "            loss = criterion(outputs.squeeze(), targets)\n",
    "            val_running_loss += loss.item()\n",
    "    \n",
    "    avg_val_loss = val_running_loss / len(val_loader)\n",
    "    val_losses.append(avg_val_loss)\n",
    "    \n",
    "    print(f'Epoch [{epoch+1}/{num_epochs}]   Train Loss: {avg_train_loss:.4f}   Val Loss: {avg_val_loss:.4f}')"
   ]
  },
  {
   "cell_type": "code",
   "execution_count": null,
   "id": "new_cell_id",
   "metadata": {},
   "outputs": [],
   "source": [
    "# Plot losses\n",
    "plt.plot(train_losses, label='Train Loss')\n",
    "plt.plot(val_losses, label='Validation Loss')\n",
    "plt.set_title('Model Loss')\n",
    "plt.set_xlabel('Epoch')\n",
    "plt.set_ylabel('Loss')\n",
    "plt.legend()\n",
    "plt.show()"
   ]
  },
  {
   "cell_type": "code",
   "execution_count": 9,
   "id": "c61eb81a",
   "metadata": {},
   "outputs": [],
   "source": [
    "# Testing phase\n",
    "model.eval()\n",
    "\n",
    "all_targets = []\n",
    "all_probabilities = []\n",
    "\n",
    "with torch.no_grad():\n",
    "    for data, targets in test_loader:\n",
    "        data, targets = data.to(device), targets.to(device, dtype=torch.float)\n",
    "        \n",
    "        outputs = model(data)\n",
    "        probabilities = torch.sigmoid(outputs.squeeze())\n",
    "        \n",
    "        all_targets.extend(targets.cpu().numpy())\n",
    "        all_probabilities.extend(probabilities.cpu().numpy())\n",
    "\n",
    "targets = np.array(all_targets).astype(int)\n",
    "probabilities = np.array(all_probabilities)"
   ]
  },
  {
   "cell_type": "code",
   "execution_count": 10,
   "id": "92e33997",
   "metadata": {},
   "outputs": [],
   "source": [
    "fpr, tpr, thresholds = roc_curve(targets, probabilities)\n",
    "j_scores = tpr - fpr\n",
    "optimal_idx = np.argmax(j_scores)\n",
    "optimal_threshold = thresholds[optimal_idx]\n",
    "\n",
    "predictions = (probabilities >= optimal_threshold).astype(int)"
   ]
  },
  {
   "cell_type": "code",
   "execution_count": 11,
   "id": "4562730d",
   "metadata": {},
   "outputs": [
    {
     "name": "stdout",
     "output_type": "stream",
     "text": [
      "APCER: 26.80%\n",
      "BPCER: 62.30%\n",
      "ACER:  44.55%\n",
      "ACC*:  55.45%\n",
      "ACC:   55.45%\n"
     ]
    }
   ],
   "source": [
    "genuine_mask = (targets == 0)  # Bona fide samples\n",
    "attack_mask = (targets == 1)   # Attack samples\n",
    "\n",
    "genuine_count = np.sum(genuine_mask)\n",
    "attack_count = np.sum(attack_mask)\n",
    "\n",
    "# Calculate errors\n",
    "# APCER: False Accept Rate (attack samples incorrectly classified as genuine)\n",
    "genuine_as_attack = predictions[genuine_mask]  # What the model predicted for genuine samples\n",
    "apcer = np.sum(genuine_as_attack) / genuine_count if genuine_count > 0 else 0  # FP / Total Genuine\n",
    "\n",
    "# BPCER: False Reject Rate (genuine samples incorrectly classified as attack)\n",
    "attack_as_genuine = 1 - predictions[attack_mask]  # What the model predicted as genuine for attack samples\n",
    "bpcer = np.sum(attack_as_genuine) / attack_count if attack_count > 0 else 0  # FN / Total Attack\n",
    "\n",
    "# Also calculate ACER (Average Classification Error Rate)\n",
    "acer = (apcer + bpcer) / 2\n",
    "\n",
    "acc = 1 - acer\n",
    "\n",
    "accuracy = accuracy_score(targets, predictions) * 100\n",
    "\n",
    "print(f\"APCER: {apcer*100:.2f}%\")\n",
    "print(f\"BPCER: {bpcer*100:.2f}%\")\n",
    "print(f\"ACER:  {acer*100:.2f}%\")\n",
    "print(f\"ACC*:  {acc*100:.2f}%\")\n",
    "print(f\"ACC:   {accuracy:.2f}%\")"
   ]
  },
  {
   "cell_type": "code",
   "execution_count": null,
   "id": "38b0479e",
   "metadata": {},
   "outputs": [],
   "source": []
  }
 ],
 "metadata": {
  "kernelspec": {
   "display_name": "torchenv",
   "language": "python",
   "name": "python3"
  },
  "language_info": {
   "codemirror_mode": {
    "name": "ipython",
    "version": 3
   },
   "file_extension": ".py",
   "mimetype": "text/x-python",
   "name": "python",
   "nbconvert_exporter": "python",
   "pygments_lexer": "ipython3",
   "version": "3.12.12"
  }
 },
 "nbformat": 4,
 "nbformat_minor": 5
}
